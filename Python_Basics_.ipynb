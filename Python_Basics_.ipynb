{
  "nbformat": 4,
  "nbformat_minor": 0,
  "metadata": {
    "colab": {
      "provenance": []
    },
    "kernelspec": {
      "name": "python3",
      "display_name": "Python 3"
    },
    "language_info": {
      "name": "python"
    }
  },
  "cells": [
    {
      "cell_type": "markdown",
      "source": [
        "# **PYTHON BASICS QUESTION**"
      ],
      "metadata": {
        "id": "I0l2aWgLm13l"
      }
    },
    {
      "cell_type": "markdown",
      "source": [
        "Q.1 What is python, and why is it popular ?\n",
        "Ans ->  python is a programing language, which is used for craeting instructions for a computer  to follow.\n",
        "  It is popular for many reasons there are some following reasons:-\n",
        "  (i) it is widely used in the industries/ MNC/ corporates.\n",
        "  (ii) it is easily undersatble.\n",
        "  (iii) There are lots of libraries in python language.\n",
        "  (iv) it is also used for automation and iamge processing."
      ],
      "metadata": {
        "id": "GPQF-wXUnG88"
      }
    },
    {
      "cell_type": "markdown",
      "source": [
        "Q.2 what is interpreter in Python ?\n",
        "  Ans -> An interpreter is a program that reads and execute the codes of Python line by line. It executes the translated instructions and translate the code into a form that computer can understand."
      ],
      "metadata": {
        "id": "DQnTE9NHwzom"
      }
    },
    {
      "cell_type": "markdown",
      "source": [
        "Q.3 What are pre-defined keywords in python ?\n",
        "  Ans ->  Pre-defined codes are those terms that holds a special meaning in Python and have specific purpose. these terms are used commonly, because these are part of the core Python language and provides important functions for performing common tasks.\n",
        "  These are some commonly used pre-defined keywords:-\n",
        "  print(), len(), type(), int(), str(), float() etc."
      ],
      "metadata": {
        "id": "DvsP_w4qw8MY"
      }
    },
    {
      "cell_type": "markdown",
      "source": [
        "\n",
        "  Q.4 Can keywords be used as variables names ?\n",
        "  Ans -> No, it can not be used as variable names in Python because these are pre-defined and have special meanings."
      ],
      "metadata": {
        "id": "Rl9trYjexIGX"
      }
    },
    {
      "cell_type": "markdown",
      "source": [],
      "metadata": {
        "id": "YZdHFhujnF54"
      }
    },
    {
      "cell_type": "markdown",
      "source": [
        " Q.5 What is mutability in Python ?\n",
        "  Ans -> There are some objects or container whose state or value can be changed after they are created are known as mutable objects or container. In very simple language we can say those objects which are changeable are called mutable or this function is called mutability."
      ],
      "metadata": {
        "id": "5PXT8264xN_t"
      }
    },
    {
      "cell_type": "markdown",
      "source": [
        "Q.6 Why are lists mutable, but tuples are immutable ?\n",
        " Ans-> Lists are mutable because, it is used to store sequences of items and are designed where the data needs to be modofied.\n",
        " on the other hand tuples are immutable because, it is used to store sequences of items where the data is intended to be fixed or read only."
      ],
      "metadata": {
        "id": "PCqU2pDWxRul"
      }
    },
    {
      "cell_type": "markdown",
      "source": [
        " .7 What is diQffernce between \"==\" and \"is\" operators in Python ?\n",
        "  Ans-> The \"==\" operator in Python is an  equality operator. It copares the values of two objects and as result it returns True if the values are equal and False otherwise. On the other hand \"is\" operator is an identity operator. It checks if two variables refer to the same objects in memory and as result it returns True if they point to the same object and False otherwise.\n"
      ],
      "metadata": {
        "id": "9kwU4x0Kxapw"
      }
    },
    {
      "cell_type": "markdown",
      "source": [
        "Q.8 What are logical opertors in Python ?\n",
        "Ans -> Logical operators in Python are used to combine or modify Boolean values.There are three logical operatoprs in Python: and , or,and not.\n",
        "(i) and : it returns True if both operands are True, otherwise returns False.\n",
        "(ii) or  : it returns True if at least one of the operand is True, otherwise returns False.\n",
        "(iii) not : it returns True if the operand is False, and False if the operand is True."
      ],
      "metadata": {
        "id": "U409XfwUEwu5"
      }
    },
    {
      "cell_type": "markdown",
      "source": [
        "Q.9 What is type casting in Python ?\n",
        "Ans-> Type casting is a process in Python, which involves changing a variable's data type.this can be done implicitly or explicitly."
      ],
      "metadata": {
        "id": "b_6ZFkQ1HC96"
      }
    },
    {
      "cell_type": "markdown",
      "source": [
        "Q.10 What is the differnce between  implicit and explicit type casting ?\n",
        "Ans-> Implicit type casting is automatically done by the Python, it convert a smaller data type to a large one, While explicit type casting is done by manually convert a large data type to a smaller one."
      ],
      "metadata": {
        "id": "Km4pHuZCMLNJ"
      }
    },
    {
      "cell_type": "markdown",
      "source": [
        "Q.11 What is the purpose of conditional statement in Python ?\n",
        "Ans-> The purpose of conditional statement in Python is allow us to control the flow of our program's execution by determining which code blocks to run based on some condition.\n",
        "Conditional statements, like if, elif,and else, allow us to specify which code should be run based on  whether  a condition is met."
      ],
      "metadata": {
        "id": "KwRqCm49Rkh-"
      }
    },
    {
      "cell_type": "markdown",
      "source": [
        "Q.12 How does the elif statement work ?\n",
        "Ans-> The elif statement in Python,  short of \"else if\" allows for checking multiple conditions line by line . it is used in conjuction with the if and optionally the else statements to create a sequence of conditional checks."
      ],
      "metadata": {
        "id": "7cV2xbtYTG4c"
      }
    },
    {
      "cell_type": "markdown",
      "source": [
        "Q.13 What is the differnce between for and while loops ?\n",
        "Ans-> For loop is ideal for iterating over a sequence(like a list, string,etc) or a known range of numbers.the  number of iterations are predetermined.\n",
        "while loops used when the number of iterations is not fixed in advance and depends on a condition.The loops continue to execute as long as the condition reamins True."
      ],
      "metadata": {
        "id": "GlUOpnZEUL-z"
      }
    },
    {
      "cell_type": "markdown",
      "source": [
        "Q.14 Describe the scenario where a while loop is more suitable than for loop.\n",
        "Ans-> A while loop is more suitable than for loop when we don't know the number of iteration beforehand, and the loops continue on  a dyanamic condition."
      ],
      "metadata": {
        "id": "BLrekX3yV0fZ"
      }
    },
    {
      "cell_type": "markdown",
      "source": [
        " **PRACTICAL QUESTIONS**"
      ],
      "metadata": {
        "id": "oueoFLq3XKvF"
      }
    },
    {
      "cell_type": "code",
      "source": [
        "# Q.1. WRITE A PYTHON PROGRAM TO PRINT \"HELLO WORLD!\"\n",
        "print( \"Hello world!\")"
      ],
      "metadata": {
        "colab": {
          "base_uri": "https://localhost:8080/"
        },
        "id": "XlzKR16QQH9J",
        "outputId": "60cb6871-e2c9-4ec4-b673-5360e254ee09"
      },
      "execution_count": null,
      "outputs": [
        {
          "output_type": "stream",
          "name": "stdout",
          "text": [
            "Hello world!\n"
          ]
        }
      ]
    },
    {
      "cell_type": "code",
      "source": [
        "#Q.2. WRITE A PYTHON PROGRAM THAT DISPLAYS YOUR NAME AND AGE.\n",
        "name= input(\"please enter your name: \")\n",
        "age= int(input(\"please enter your age: \"))\n",
        "print(f\"name : {name}, age : {age}\")\n"
      ],
      "metadata": {
        "colab": {
          "base_uri": "https://localhost:8080/"
        },
        "id": "E-YjWFlOS1NE",
        "outputId": "c18409ba-2d7b-45a4-ed68-e6499e44beee"
      },
      "execution_count": null,
      "outputs": [
        {
          "output_type": "stream",
          "name": "stdout",
          "text": [
            "please enter your name: Prakash kumar\n",
            "please enter your age: 27\n",
            "name : Prakash kumar, age : 27\n"
          ]
        }
      ]
    },
    {
      "cell_type": "code",
      "source": [
        "#Q.3. WRITE CODE TO PRINT ALL THE PRE-DEFINED KEYWORDS IN PYTHON USING THE KEYWORD LIBRARY.\n",
        "help(\"keywords\")"
      ],
      "metadata": {
        "colab": {
          "base_uri": "https://localhost:8080/"
        },
        "id": "uxOQdd1ETEA5",
        "outputId": "d6baa955-c95f-4004-996e-24eaf1dc40fd"
      },
      "execution_count": null,
      "outputs": [
        {
          "output_type": "stream",
          "name": "stdout",
          "text": [
            "\n",
            "Here is a list of the Python keywords.  Enter any keyword to get more help.\n",
            "\n",
            "False               class               from                or\n",
            "None                continue            global              pass\n",
            "True                def                 if                  raise\n",
            "and                 del                 import              return\n",
            "as                  elif                in                  try\n",
            "assert              else                is                  while\n",
            "async               except              lambda              with\n",
            "await               finally             nonlocal            yield\n",
            "break               for                 not                 \n",
            "\n"
          ]
        }
      ]
    },
    {
      "cell_type": "code",
      "source": [
        "#Q.4. WRITE A PROGRAM THAT CHECKS IF A GIVEN WORD IS A PYTHON KEYWORD.\n",
        "import keyword\n",
        "a= input(\"Enter a word:\")\n",
        "if keyword.iskeyword(a):\n",
        "  print(\"your entered word is a keyword in Python\")\n",
        "else:\n",
        "  print(\"your entered word is not a keyword in Python\")"
      ],
      "metadata": {
        "colab": {
          "base_uri": "https://localhost:8080/"
        },
        "id": "e8jNMc00bwAX",
        "outputId": "24002077-77b5-4331-ba73-d733cc9d1a56"
      },
      "execution_count": null,
      "outputs": [
        {
          "output_type": "stream",
          "name": "stdout",
          "text": [
            "Enter a word:True\n",
            "your entered word is a keyword in Python\n"
          ]
        }
      ]
    },
    {
      "cell_type": "code",
      "source": [
        "#Q.5. CREATE A LIST AND TUPLE IN PYTHON, AND DEMONSTRATE HOW ATTEMPTING TO CHANGE AN ELEMENT WORKS DIFFERENTLY FOR EACH .\n",
        "# changes in list element\n",
        "list_cont= [1, 2, 3.4, \"nihal\", True, \"sonu\"]\n",
        "list_cont"
      ],
      "metadata": {
        "id": "BngLCW0UfyZb",
        "colab": {
          "base_uri": "https://localhost:8080/"
        },
        "outputId": "24ce89a1-1176-4bce-ebf1-a3d1d76bc447"
      },
      "execution_count": null,
      "outputs": [
        {
          "output_type": "execute_result",
          "data": {
            "text/plain": [
              "[1, 2, 3.4, 'nihal', True, 'sonu']"
            ]
          },
          "metadata": {},
          "execution_count": 2
        }
      ]
    },
    {
      "cell_type": "code",
      "source": [
        "list_cont[3]"
      ],
      "metadata": {
        "colab": {
          "base_uri": "https://localhost:8080/",
          "height": 36
        },
        "id": "bGGPVr0x-aS9",
        "outputId": "68154f47-83ac-4099-c1a8-fcfa053b6b17"
      },
      "execution_count": null,
      "outputs": [
        {
          "output_type": "execute_result",
          "data": {
            "text/plain": [
              "'nihal'"
            ],
            "application/vnd.google.colaboratory.intrinsic+json": {
              "type": "string"
            }
          },
          "metadata": {},
          "execution_count": 5
        }
      ]
    },
    {
      "cell_type": "code",
      "source": [
        "list_cont[3]=\"Prakash\""
      ],
      "metadata": {
        "id": "VX42QDLV-gZj"
      },
      "execution_count": null,
      "outputs": []
    },
    {
      "cell_type": "code",
      "source": [
        "list_cont"
      ],
      "metadata": {
        "colab": {
          "base_uri": "https://localhost:8080/"
        },
        "id": "PeZRGN6e-y0D",
        "outputId": "20d6021e-27c4-4f6d-a643-5565ddc301eb"
      },
      "execution_count": null,
      "outputs": [
        {
          "output_type": "execute_result",
          "data": {
            "text/plain": [
              "[1, 2, 3.4, 'Prakash', True, 'sonu']"
            ]
          },
          "metadata": {},
          "execution_count": 7
        }
      ]
    },
    {
      "cell_type": "code",
      "source": [
        "my_tuple=(1, 2, 3.4, \"nihal\", True, \"sonu\")\n",
        "my_tuple"
      ],
      "metadata": {
        "colab": {
          "base_uri": "https://localhost:8080/"
        },
        "id": "zTMQ6IzI-5ED",
        "outputId": "58bfc5c7-4b72-48cc-c7be-ee43fae14d50"
      },
      "execution_count": null,
      "outputs": [
        {
          "output_type": "execute_result",
          "data": {
            "text/plain": [
              "(1, 2, 3.4, 'nihal', True, 'sonu')"
            ]
          },
          "metadata": {},
          "execution_count": 8
        }
      ]
    },
    {
      "cell_type": "code",
      "source": [
        "my_tuple[3]"
      ],
      "metadata": {
        "colab": {
          "base_uri": "https://localhost:8080/",
          "height": 36
        },
        "id": "KvLREj_A_uMj",
        "outputId": "f44c6493-f615-487d-82de-33769b29bf8c"
      },
      "execution_count": null,
      "outputs": [
        {
          "output_type": "execute_result",
          "data": {
            "text/plain": [
              "'nihal'"
            ],
            "application/vnd.google.colaboratory.intrinsic+json": {
              "type": "string"
            }
          },
          "metadata": {},
          "execution_count": 10
        }
      ]
    },
    {
      "cell_type": "code",
      "source": [
        "my_tuple[3]= \"Prakash\""
      ],
      "metadata": {
        "colab": {
          "base_uri": "https://localhost:8080/",
          "height": 141
        },
        "id": "qS5SUN_-_x76",
        "outputId": "ad52a71a-a940-4327-ece1-3226b124b07c"
      },
      "execution_count": null,
      "outputs": [
        {
          "output_type": "error",
          "ename": "TypeError",
          "evalue": "'tuple' object does not support item assignment",
          "traceback": [
            "\u001b[0;31m---------------------------------------------------------------------------\u001b[0m",
            "\u001b[0;31mTypeError\u001b[0m                                 Traceback (most recent call last)",
            "\u001b[0;32m<ipython-input-11-12ee39268567>\u001b[0m in \u001b[0;36m<cell line: 0>\u001b[0;34m()\u001b[0m\n\u001b[0;32m----> 1\u001b[0;31m \u001b[0mmy_tuple\u001b[0m\u001b[0;34m[\u001b[0m\u001b[0;36m3\u001b[0m\u001b[0;34m]\u001b[0m\u001b[0;34m=\u001b[0m \u001b[0;34m\"Prakash\"\u001b[0m\u001b[0;34m\u001b[0m\u001b[0;34m\u001b[0m\u001b[0m\n\u001b[0m",
            "\u001b[0;31mTypeError\u001b[0m: 'tuple' object does not support item assignment"
          ]
        }
      ]
    },
    {
      "cell_type": "code",
      "source": [
        "#Q.6.WRITE A FUNCTION TO DEMONSTRATE THE BEHAVIOUR OF MUTABLE AND IMMUTABLE ARGUMENTS .\n",
        "# MUTABLE ARGUMENTS\n",
        "list_cont=[1, 2, 3.4, \"nihal\"]\n",
        "list_cont"
      ],
      "metadata": {
        "colab": {
          "base_uri": "https://localhost:8080/"
        },
        "id": "s_YAI9Jb_8kj",
        "outputId": "42dafa3b-531b-4d7a-e539-dfee7359d2ec"
      },
      "execution_count": null,
      "outputs": [
        {
          "output_type": "execute_result",
          "data": {
            "text/plain": [
              "[1, 2, 3.4, 'nihal']"
            ]
          },
          "metadata": {},
          "execution_count": 13
        }
      ]
    },
    {
      "cell_type": "code",
      "source": [
        "list_cont[0]=10"
      ],
      "metadata": {
        "id": "0mP356AOBV7O"
      },
      "execution_count": null,
      "outputs": []
    },
    {
      "cell_type": "code",
      "source": [
        "list_cont"
      ],
      "metadata": {
        "colab": {
          "base_uri": "https://localhost:8080/"
        },
        "id": "-ZnQOMuABjiz",
        "outputId": "5ee0f470-d273-4551-bc94-d90c459787d2"
      },
      "execution_count": null,
      "outputs": [
        {
          "output_type": "execute_result",
          "data": {
            "text/plain": [
              "[10, 2, 3.4, 'nihal']"
            ]
          },
          "metadata": {},
          "execution_count": 15
        }
      ]
    },
    {
      "cell_type": "code",
      "source": [
        "#IMMUTABLE ARGUMENTS\n",
        "a= \"hello world\"\n",
        "a"
      ],
      "metadata": {
        "colab": {
          "base_uri": "https://localhost:8080/",
          "height": 36
        },
        "id": "2t1LhFMSBljr",
        "outputId": "d43cf802-a3c6-46a8-f42a-197062b65be3"
      },
      "execution_count": null,
      "outputs": [
        {
          "output_type": "execute_result",
          "data": {
            "text/plain": [
              "'hello world'"
            ],
            "application/vnd.google.colaboratory.intrinsic+json": {
              "type": "string"
            }
          },
          "metadata": {},
          "execution_count": 18
        }
      ]
    },
    {
      "cell_type": "code",
      "source": [
        "a[0]=H"
      ],
      "metadata": {
        "colab": {
          "base_uri": "https://localhost:8080/",
          "height": 141
        },
        "id": "N1WuDtk2Bw-r",
        "outputId": "9d3c0f0a-28f7-4546-e818-c2fbd0a665fc"
      },
      "execution_count": null,
      "outputs": [
        {
          "output_type": "error",
          "ename": "NameError",
          "evalue": "name 'H' is not defined",
          "traceback": [
            "\u001b[0;31m---------------------------------------------------------------------------\u001b[0m",
            "\u001b[0;31mNameError\u001b[0m                                 Traceback (most recent call last)",
            "\u001b[0;32m<ipython-input-19-46f4f7642911>\u001b[0m in \u001b[0;36m<cell line: 0>\u001b[0;34m()\u001b[0m\n\u001b[0;32m----> 1\u001b[0;31m \u001b[0ma\u001b[0m\u001b[0;34m[\u001b[0m\u001b[0;36m0\u001b[0m\u001b[0;34m]\u001b[0m\u001b[0;34m=\u001b[0m\u001b[0mH\u001b[0m\u001b[0;34m\u001b[0m\u001b[0;34m\u001b[0m\u001b[0m\n\u001b[0m",
            "\u001b[0;31mNameError\u001b[0m: name 'H' is not defined"
          ]
        }
      ]
    },
    {
      "cell_type": "code",
      "source": [
        "#Q.7.WRITE A PROGRAM THAT PERFORMS BASIC ARITHMETIC OPERATIONS ON TWO USER-INPUT NUMBERS.\n",
        "a=5\n",
        "b=3\n",
        "a**b"
      ],
      "metadata": {
        "colab": {
          "base_uri": "https://localhost:8080/"
        },
        "id": "BJ0akxl0B1fC",
        "outputId": "f1a32c96-dfa4-4cf6-c74f-30814df0329e"
      },
      "execution_count": null,
      "outputs": [
        {
          "output_type": "execute_result",
          "data": {
            "text/plain": [
              "125"
            ]
          },
          "metadata": {},
          "execution_count": 20
        }
      ]
    },
    {
      "cell_type": "code",
      "source": [
        "a=9\n",
        "b=2\n",
        "a//b"
      ],
      "metadata": {
        "colab": {
          "base_uri": "https://localhost:8080/"
        },
        "id": "pEdHohPUCm8o",
        "outputId": "a4b88013-1bed-41f2-c9f9-3966544daada"
      },
      "execution_count": null,
      "outputs": [
        {
          "output_type": "execute_result",
          "data": {
            "text/plain": [
              "4"
            ]
          },
          "metadata": {},
          "execution_count": 21
        }
      ]
    },
    {
      "cell_type": "code",
      "source": [
        "#Q.8. WRITE A PROGRAM TO DEMONSRATE THE USE OF LOGICAL OPERATORS.\n",
        "# AND OPERATORS\n",
        "a=True\n",
        "b=False\n",
        "a and b"
      ],
      "metadata": {
        "colab": {
          "base_uri": "https://localhost:8080/"
        },
        "id": "Z8jcPBYSCsRR",
        "outputId": "5653d2bc-ebfa-4dbb-a8c9-d59a001efec2"
      },
      "execution_count": null,
      "outputs": [
        {
          "output_type": "execute_result",
          "data": {
            "text/plain": [
              "False"
            ]
          },
          "metadata": {},
          "execution_count": 22
        }
      ]
    },
    {
      "cell_type": "code",
      "source": [
        "a= True\n",
        "b= True\n",
        "a and b"
      ],
      "metadata": {
        "colab": {
          "base_uri": "https://localhost:8080/"
        },
        "id": "t_zFS5YqDSjT",
        "outputId": "05bbfbec-ffcf-46d9-88bb-4d23d93d0623"
      },
      "execution_count": null,
      "outputs": [
        {
          "output_type": "execute_result",
          "data": {
            "text/plain": [
              "True"
            ]
          },
          "metadata": {},
          "execution_count": 28
        }
      ]
    },
    {
      "cell_type": "code",
      "source": [
        "a= False\n",
        "b= False\n",
        "a and b"
      ],
      "metadata": {
        "colab": {
          "base_uri": "https://localhost:8080/"
        },
        "id": "luhZKB7BEcg0",
        "outputId": "c608dd86-bfcd-4a91-d311-672b4aca703c"
      },
      "execution_count": null,
      "outputs": [
        {
          "output_type": "execute_result",
          "data": {
            "text/plain": [
              "False"
            ]
          },
          "metadata": {},
          "execution_count": 29
        }
      ]
    },
    {
      "cell_type": "code",
      "source": [
        "a= False\n",
        "b=True\n",
        "a and b"
      ],
      "metadata": {
        "colab": {
          "base_uri": "https://localhost:8080/"
        },
        "id": "VuutN2FKEwPS",
        "outputId": "3873fc5c-d333-4855-d012-9bbc8504eede"
      },
      "execution_count": null,
      "outputs": [
        {
          "output_type": "execute_result",
          "data": {
            "text/plain": [
              "False"
            ]
          },
          "metadata": {},
          "execution_count": 30
        }
      ]
    },
    {
      "cell_type": "code",
      "source": [
        "# OR OPERTAORS\n",
        "a= True\n",
        "b= True\n",
        "a or b"
      ],
      "metadata": {
        "colab": {
          "base_uri": "https://localhost:8080/"
        },
        "id": "4nult2JBDdxy",
        "outputId": "45f5b405-7854-47ae-a68e-65da90311943"
      },
      "execution_count": null,
      "outputs": [
        {
          "output_type": "execute_result",
          "data": {
            "text/plain": [
              "True"
            ]
          },
          "metadata": {},
          "execution_count": 24
        }
      ]
    },
    {
      "cell_type": "code",
      "source": [
        "a= True\n",
        "b= False\n",
        "a or b"
      ],
      "metadata": {
        "colab": {
          "base_uri": "https://localhost:8080/"
        },
        "id": "bnzPJg2aDzr9",
        "outputId": "17428e32-e647-4fa2-c83f-b89aed1724da"
      },
      "execution_count": null,
      "outputs": [
        {
          "output_type": "execute_result",
          "data": {
            "text/plain": [
              "True"
            ]
          },
          "metadata": {},
          "execution_count": 25
        }
      ]
    },
    {
      "cell_type": "code",
      "source": [
        "a = False\n",
        "b= False\n",
        "a or b"
      ],
      "metadata": {
        "colab": {
          "base_uri": "https://localhost:8080/"
        },
        "id": "r_L3IwfCD42r",
        "outputId": "515254e5-080b-4208-b94f-0c7ec2378586"
      },
      "execution_count": null,
      "outputs": [
        {
          "output_type": "execute_result",
          "data": {
            "text/plain": [
              "False"
            ]
          },
          "metadata": {},
          "execution_count": 26
        }
      ]
    },
    {
      "cell_type": "code",
      "source": [
        "a= False\n",
        "b= True\n",
        "a or b"
      ],
      "metadata": {
        "colab": {
          "base_uri": "https://localhost:8080/"
        },
        "id": "H7iJLJDrD9f7",
        "outputId": "78ecfb36-814d-45fc-a1a1-998e8c5d6dd1"
      },
      "execution_count": null,
      "outputs": [
        {
          "output_type": "execute_result",
          "data": {
            "text/plain": [
              "True"
            ]
          },
          "metadata": {},
          "execution_count": 31
        }
      ]
    },
    {
      "cell_type": "code",
      "source": [
        "# NOT OPERATOR\n",
        "Z = True\n",
        "not Z"
      ],
      "metadata": {
        "colab": {
          "base_uri": "https://localhost:8080/"
        },
        "id": "KFxqpn8bE72Y",
        "outputId": "ee633ba7-39d9-4d7d-fe9e-44327aef59bf"
      },
      "execution_count": null,
      "outputs": [
        {
          "output_type": "execute_result",
          "data": {
            "text/plain": [
              "False"
            ]
          },
          "metadata": {},
          "execution_count": 32
        }
      ]
    },
    {
      "cell_type": "code",
      "source": [
        "#Checking Age Eligibility:\n",
        "age= 25\n",
        "if age >= 18:\n",
        "  print(\"you are eligible to vote\")\n",
        "else:\n",
        "  print(\"you are not elegible for vote\")"
      ],
      "metadata": {
        "colab": {
          "base_uri": "https://localhost:8080/"
        },
        "id": "mW2JQlwLFQna",
        "outputId": "926b159c-b18b-46ae-d136-44facdfb95fc"
      },
      "execution_count": null,
      "outputs": [
        {
          "output_type": "stream",
          "name": "stdout",
          "text": [
            "you are eligible to vote\n"
          ]
        }
      ]
    },
    {
      "cell_type": "code",
      "source": [
        "#Q.9.WRITE A PYTHON PROGRAM TO CONVERT USER INPUT FROM STRING, FLOAT, BOOLEAN TYPES.\n",
        "a= 12\n",
        "type(a)"
      ],
      "metadata": {
        "colab": {
          "base_uri": "https://localhost:8080/"
        },
        "id": "_KCLUIUdF0pT",
        "outputId": "662e34ec-c607-4f68-ddf0-88471b8b4ee2"
      },
      "execution_count": null,
      "outputs": [
        {
          "output_type": "execute_result",
          "data": {
            "text/plain": [
              "int"
            ]
          },
          "metadata": {},
          "execution_count": 37
        }
      ]
    },
    {
      "cell_type": "code",
      "source": [
        "b=float(a)\n",
        "print(b)"
      ],
      "metadata": {
        "colab": {
          "base_uri": "https://localhost:8080/"
        },
        "id": "wLOkqApvGxw2",
        "outputId": "7d3460bb-7de2-40e6-9752-ea71b1b84ca8"
      },
      "execution_count": null,
      "outputs": [
        {
          "output_type": "stream",
          "name": "stdout",
          "text": [
            "12.0\n"
          ]
        }
      ]
    },
    {
      "cell_type": "code",
      "source": [
        "type(b)"
      ],
      "metadata": {
        "colab": {
          "base_uri": "https://localhost:8080/"
        },
        "id": "rDHBXkMEG3PB",
        "outputId": "03397f7c-e9fa-4e93-cea9-dcc164093d70"
      },
      "execution_count": null,
      "outputs": [
        {
          "output_type": "execute_result",
          "data": {
            "text/plain": [
              "float"
            ]
          },
          "metadata": {},
          "execution_count": 40
        }
      ]
    },
    {
      "cell_type": "code",
      "source": [
        "c=\"12\"\n",
        "type(c)"
      ],
      "metadata": {
        "colab": {
          "base_uri": "https://localhost:8080/"
        },
        "id": "O94-BMmYHX6b",
        "outputId": "dbf892d1-0e1a-47e8-b345-01c549e42d74"
      },
      "execution_count": null,
      "outputs": [
        {
          "output_type": "execute_result",
          "data": {
            "text/plain": [
              "str"
            ]
          },
          "metadata": {},
          "execution_count": 42
        }
      ]
    },
    {
      "cell_type": "code",
      "source": [
        "d=int(c)\n",
        "print(d)"
      ],
      "metadata": {
        "colab": {
          "base_uri": "https://localhost:8080/"
        },
        "id": "2wZfKiPbHfKU",
        "outputId": "8d0c1ee7-1b72-4a68-c9db-6fba90459b37"
      },
      "execution_count": null,
      "outputs": [
        {
          "output_type": "stream",
          "name": "stdout",
          "text": [
            "12\n"
          ]
        }
      ]
    },
    {
      "cell_type": "code",
      "source": [
        "type(d)"
      ],
      "metadata": {
        "colab": {
          "base_uri": "https://localhost:8080/"
        },
        "id": "Lh3NriPIHyxD",
        "outputId": "e44aeaae-c5c9-47de-88cf-d170642b46d2"
      },
      "execution_count": null,
      "outputs": [
        {
          "output_type": "execute_result",
          "data": {
            "text/plain": [
              "int"
            ]
          },
          "metadata": {},
          "execution_count": 44
        }
      ]
    },
    {
      "cell_type": "code",
      "source": [
        "a is d"
      ],
      "metadata": {
        "colab": {
          "base_uri": "https://localhost:8080/"
        },
        "id": "Gufm40F3H1Xy",
        "outputId": "b5aae532-2317-4d5c-998b-e96fdf09e168"
      },
      "execution_count": null,
      "outputs": [
        {
          "output_type": "execute_result",
          "data": {
            "text/plain": [
              "True"
            ]
          },
          "metadata": {},
          "execution_count": 46
        }
      ]
    },
    {
      "cell_type": "code",
      "source": [
        "bool(d)"
      ],
      "metadata": {
        "colab": {
          "base_uri": "https://localhost:8080/"
        },
        "id": "fyX3E3P4IDsR",
        "outputId": "b0cb1a77-8859-4937-d98e-bccd8ca50ec7"
      },
      "execution_count": null,
      "outputs": [
        {
          "output_type": "execute_result",
          "data": {
            "text/plain": [
              "True"
            ]
          },
          "metadata": {},
          "execution_count": 47
        }
      ]
    },
    {
      "cell_type": "code",
      "source": [
        "#Q.10.WRITE CODE TO DEMONSTRATE TTYPE CASTING WITH LIST ELEMENTS.\n",
        "# IMPLICIT TYPE CASTING\n",
        "x=10\n",
        "y=2.5\n",
        "z=x+y\n",
        "print(z)\n",
        "# Here the value of x is an int value and the value of y is float value but Python implicitly (automatically) done the sum"
      ],
      "metadata": {
        "id": "yFyrhmJcIX8a",
        "colab": {
          "base_uri": "https://localhost:8080/"
        },
        "outputId": "857bfc9b-247e-4e2b-e60f-badfb9cd25d0"
      },
      "execution_count": 3,
      "outputs": [
        {
          "output_type": "stream",
          "name": "stdout",
          "text": [
            "12.5\n"
          ]
        }
      ]
    },
    {
      "cell_type": "code",
      "source": [
        "type(z)"
      ],
      "metadata": {
        "colab": {
          "base_uri": "https://localhost:8080/"
        },
        "id": "FlXPwsye9D2Z",
        "outputId": "a23875d8-e3cc-463f-b3d6-f5512a0d92f4"
      },
      "execution_count": 4,
      "outputs": [
        {
          "output_type": "execute_result",
          "data": {
            "text/plain": [
              "float"
            ]
          },
          "metadata": {},
          "execution_count": 4
        }
      ]
    },
    {
      "cell_type": "code",
      "source": [
        "# EXPLICIT TYPE CASTING\n",
        "#INTEGER TO FLOT\n",
        "number = 10\n",
        "num_float=float(number)\n",
        "print(num_float)"
      ],
      "metadata": {
        "colab": {
          "base_uri": "https://localhost:8080/"
        },
        "id": "7Z4tQEEQ94NP",
        "outputId": "8d0c7125-283c-445f-ad7e-a0f8c7ea9392"
      },
      "execution_count": 5,
      "outputs": [
        {
          "output_type": "stream",
          "name": "stdout",
          "text": [
            "10.0\n"
          ]
        }
      ]
    },
    {
      "cell_type": "code",
      "source": [
        "print(type(num_float))"
      ],
      "metadata": {
        "colab": {
          "base_uri": "https://localhost:8080/"
        },
        "id": "xvjYBTEw-ZlS",
        "outputId": "67decd9f-3a2d-4e1d-c1d0-92dd34eedb0f"
      },
      "execution_count": 6,
      "outputs": [
        {
          "output_type": "stream",
          "name": "stdout",
          "text": [
            "<class 'float'>\n"
          ]
        }
      ]
    },
    {
      "cell_type": "code",
      "source": [
        "# FLOAT TO INTEGER\n",
        "num_float=4.6\n",
        "number=int(num_float)\n",
        "print(number)"
      ],
      "metadata": {
        "colab": {
          "base_uri": "https://localhost:8080/"
        },
        "id": "zC9XopQS-hiL",
        "outputId": "6833bcfc-70bd-425d-8d9c-e25638a2882a"
      },
      "execution_count": 7,
      "outputs": [
        {
          "output_type": "stream",
          "name": "stdout",
          "text": [
            "4\n"
          ]
        }
      ]
    },
    {
      "cell_type": "code",
      "source": [
        "print(type(number))"
      ],
      "metadata": {
        "colab": {
          "base_uri": "https://localhost:8080/"
        },
        "id": "Aa5L05v1-5Dp",
        "outputId": "6da9edb6-e2ce-4834-f2dd-52fea42c4fa1"
      },
      "execution_count": 8,
      "outputs": [
        {
          "output_type": "stream",
          "name": "stdout",
          "text": [
            "<class 'int'>\n"
          ]
        }
      ]
    },
    {
      "cell_type": "code",
      "source": [
        "# INTEGER TO STRING\n",
        "number=27\n",
        "num_str=str(number)\n",
        "print(num_str)"
      ],
      "metadata": {
        "colab": {
          "base_uri": "https://localhost:8080/"
        },
        "id": "wY0J1kNk-9ru",
        "outputId": "7d8264d5-1b1d-4919-fb73-f6816424108d"
      },
      "execution_count": 9,
      "outputs": [
        {
          "output_type": "stream",
          "name": "stdout",
          "text": [
            "27\n"
          ]
        }
      ]
    },
    {
      "cell_type": "code",
      "source": [
        "print(type(num_str))"
      ],
      "metadata": {
        "colab": {
          "base_uri": "https://localhost:8080/"
        },
        "id": "jVj7-Tsf_PsB",
        "outputId": "7c25d12a-a31f-40a0-c08f-ee235493761f"
      },
      "execution_count": 10,
      "outputs": [
        {
          "output_type": "stream",
          "name": "stdout",
          "text": [
            "<class 'str'>\n"
          ]
        }
      ]
    },
    {
      "cell_type": "code",
      "source": [
        "#Q.11.WRITE A PROGRAM THAT CHECKS IF A NUMBER IS POSITIVE, NEGATIVE, OR ZERO.\n",
        "num= float(input(\" Please Enter a number:\"))\n",
        "if num> 0:\n",
        "  print(\"number is positive\")\n",
        "elif num == 0:\n",
        "  print(\"Number is equal to zero\")\n",
        "else:\n",
        "  print(\"Number is negative\")"
      ],
      "metadata": {
        "colab": {
          "base_uri": "https://localhost:8080/"
        },
        "id": "O3Ic4Qzc_bn0",
        "outputId": "27699308-1aab-4ba5-e5c7-5d8551d99ffd"
      },
      "execution_count": 13,
      "outputs": [
        {
          "output_type": "stream",
          "name": "stdout",
          "text": [
            " Please Enter a number:-4\n",
            "Number is negative\n"
          ]
        }
      ]
    },
    {
      "cell_type": "code",
      "source": [
        "#Q.12. WRITE A FOR LOOP TO PRINT NUMBERS FROM 1 TO 10.\n",
        "for i in range(1, 11):\n",
        "  print(i)"
      ],
      "metadata": {
        "colab": {
          "base_uri": "https://localhost:8080/"
        },
        "id": "K39cMchbAo_w",
        "outputId": "0daf141a-35d8-4cfe-ef81-1c873ef3b984"
      },
      "execution_count": 14,
      "outputs": [
        {
          "output_type": "stream",
          "name": "stdout",
          "text": [
            "1\n",
            "2\n",
            "3\n",
            "4\n",
            "5\n",
            "6\n",
            "7\n",
            "8\n",
            "9\n",
            "10\n"
          ]
        }
      ]
    },
    {
      "cell_type": "code",
      "source": [
        "#Q.13. WRITE A PYTHON PROGRAM TO FIND THE SUM OF ALL EVEN NUMBERS BETWEEN 1 AND 50.\n",
        "even_sum=0\n",
        "for i in range(0,50,2):\n",
        "  even_sum=even_sum+i\n",
        "\n",
        "print(f\"The sum if all the even number upto 50 is {even_sum}\")\n",
        "\n",
        "\n"
      ],
      "metadata": {
        "colab": {
          "base_uri": "https://localhost:8080/"
        },
        "id": "O3iGEDFLCTt3",
        "outputId": "e0086144-3b01-401a-e20d-95478d58b2cb"
      },
      "execution_count": 21,
      "outputs": [
        {
          "output_type": "stream",
          "name": "stdout",
          "text": [
            "The sum if all the even number upto 50 is 600\n"
          ]
        }
      ]
    },
    {
      "cell_type": "code",
      "source": [
        "#Q.14. WRITE A PROGRAM TO REVERSE A STRING USING A WHILE LOOP.\n",
        "str1=input(\"Plese enter any word:\")\n",
        "str2=\"\"\n",
        "for i in str1:\n",
        "  str2 = i+str2\n",
        "  print(\"original=\", str1)\n",
        "  print(\"after=\",str2)"
      ],
      "metadata": {
        "colab": {
          "base_uri": "https://localhost:8080/"
        },
        "id": "ztd80y8iEHgj",
        "outputId": "b350fa2e-a066-4b2a-d6b6-e526a48db4bb"
      },
      "execution_count": 22,
      "outputs": [
        {
          "output_type": "stream",
          "name": "stdout",
          "text": [
            "Plese enter any word:nihal\n",
            "original= nihal\n",
            "after= n\n",
            "original= nihal\n",
            "after= in\n",
            "original= nihal\n",
            "after= hin\n",
            "original= nihal\n",
            "after= ahin\n",
            "original= nihal\n",
            "after= lahin\n"
          ]
        }
      ]
    },
    {
      "cell_type": "code",
      "source": [
        "#Q.15.WRITE A PYTHON PROGRAM TO CALCULATE THE FACTORIAL OF A NUMBER PROVIDED BY THE USING A WHILE LOOP.\n",
        "number = 4\n",
        "factorial = 1\n",
        "i = 1\n",
        "while i <= number:\n",
        "  factorial = factorial * i\n",
        "  i = i +1\n",
        "print(factorial)\n"
      ],
      "metadata": {
        "colab": {
          "base_uri": "https://localhost:8080/"
        },
        "id": "j2MkNBcOIhvR",
        "outputId": "04f8e14b-2a37-4e67-b143-272b772ff93e"
      },
      "execution_count": 29,
      "outputs": [
        {
          "output_type": "stream",
          "name": "stdout",
          "text": [
            "24\n"
          ]
        }
      ]
    },
    {
      "cell_type": "code",
      "source": [],
      "metadata": {
        "id": "fZevK7MCLWl8"
      },
      "execution_count": 29,
      "outputs": []
    }
  ]
}